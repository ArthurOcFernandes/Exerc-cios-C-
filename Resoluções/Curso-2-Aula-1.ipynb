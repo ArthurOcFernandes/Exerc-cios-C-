{
 "cells": [
  {
   "cell_type": "markdown",
   "metadata": {},
   "source": [
    "### 1. Criar uma classe que representa uma conta bancária, com um número indicador, titular, saldo e senha."
   ]
  },
  {
   "cell_type": "code",
   "execution_count": 1,
   "metadata": {
    "dotnet_interactive": {
     "language": "csharp"
    },
    "polyglot_notebook": {
     "kernelName": "csharp"
    },
    "vscode": {
     "languageId": "polyglot-notebook"
    }
   },
   "outputs": [],
   "source": [
    "class Conta {\n",
    "    public string titular;\n",
    "    public int idConta;\n",
    "    public double saldo;\n",
    "    public int senha;\n",
    "}"
   ]
  },
  {
   "cell_type": "markdown",
   "metadata": {},
   "source": [
    "### 2. Criar um objeto do tipo Conta, adicionar dados e mostrar as informações **titular** e **saldo** no console, utilizando interpolação de strings.\n"
   ]
  },
  {
   "cell_type": "code",
   "execution_count": 2,
   "metadata": {
    "dotnet_interactive": {
     "language": "csharp"
    },
    "polyglot_notebook": {
     "kernelName": "csharp"
    },
    "vscode": {
     "languageId": "polyglot-notebook"
    }
   },
   "outputs": [
    {
     "name": "stdout",
     "output_type": "stream",
     "text": [
      "INFORMAÇÕES DA CONTA:\n",
      "Titular: Gui Lima\n",
      "Saldo atual: 20\n"
     ]
    }
   ],
   "source": [
    "Conta conta = new Conta();\n",
    "conta.titular = \"Gui Lima\";\n",
    "conta.idConta = 1;\n",
    "conta.saldo = 20.0;\n",
    "conta.senha = 1234;\n",
    "\n",
    "Console.WriteLine(\"INFORMAÇÕES DA CONTA:\");\n",
    "Console.WriteLine($\"Titular: {conta.titular}\"); \n",
    "Console.WriteLine($\"Saldo atual: {conta.saldo}\");"
   ]
  },
  {
   "cell_type": "markdown",
   "metadata": {},
   "source": [
    "### 3. Desenvolver um método da classe Conta que exibe suas informações."
   ]
  },
  {
   "cell_type": "code",
   "execution_count": 3,
   "metadata": {
    "dotnet_interactive": {
     "language": "csharp"
    },
    "polyglot_notebook": {
     "kernelName": "csharp"
    },
    "vscode": {
     "languageId": "polyglot-notebook"
    }
   },
   "outputs": [],
   "source": [
    "class Conta {\n",
    "    public string titular;\n",
    "    public int idConta;\n",
    "    public double saldo;\n",
    "    public int senha;\n",
    "\n",
    "    public void exibirInformacoes(){\n",
    "    Console.WriteLine(\"INFORMAÇÕES DA CONTA:\");\n",
    "    Console.WriteLine($\"Titular: {this.titular}\"); \n",
    "    Console.WriteLine($\"Saldo atual: {this.saldo}\");\n",
    "    }\n",
    "}\n"
   ]
  },
  {
   "cell_type": "markdown",
   "metadata": {},
   "source": [
    "### 4. Desenvolver uma classe que modele um carro, e que contenha os métodos **acelerar**, **frear** e **buzinar**"
   ]
  },
  {
   "cell_type": "code",
   "execution_count": 19,
   "metadata": {
    "dotnet_interactive": {
     "language": "csharp"
    },
    "polyglot_notebook": {
     "kernelName": "csharp"
    },
    "vscode": {
     "languageId": "polyglot-notebook"
    }
   },
   "outputs": [],
   "source": [
    "class Carro\n",
    "{\n",
    "    public string fabricante;\n",
    "    public string modelo;\n",
    "    public int ano;\n",
    "    public int quantidadePortas;\n",
    "    public int velocidade = 0;\n",
    "\n",
    "    public void exibirInformacoes(){\n",
    "        Console.WriteLine($\"Informações do carro: {this.fabricante} {this.modelo}, {this.quantidadePortas} portas, {this.ano}\");\n",
    "    }\n",
    "    \n",
    "    public void acelerar(){\n",
    "        Console.WriteLine(\"Acelerando...\");\n",
    "        if(velocidade < 100){\n",
    "            velocidade = velocidade + 5;\n",
    "        }\n",
    "    }\n",
    "\n",
    "    public void frear(){\n",
    "        Console.WriteLine(\"Frear...\");\n",
    "        if(velocidade > 0){\n",
    "            velocidade = velocidade - 5;\n",
    "        }\n",
    "    }\n",
    "\n",
    "    public void buzinar(){\n",
    "        Console.WriteLine(\"Bi Bi\");\n",
    "    }\n",
    "}"
   ]
  }
 ],
 "metadata": {
  "language_info": {
   "name": "python"
  }
 },
 "nbformat": 4,
 "nbformat_minor": 2
}
