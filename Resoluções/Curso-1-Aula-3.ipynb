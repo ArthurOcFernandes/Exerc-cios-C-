{
 "cells": [
  {
   "cell_type": "markdown",
   "metadata": {},
   "source": [
    "### 1. Escrever uma função que leia dois números de ponto flutuante a e b do teclado e exibir no console o resultado de suas quatro operações básicas (adição, subtração, divisão e multiplicação), utilizando interpolação de strings."
   ]
  },
  {
   "cell_type": "code",
   "execution_count": 15,
   "metadata": {
    "vscode": {
     "languageId": "polyglot-notebook"
    }
   },
   "outputs": [
    {
     "name": "stdout",
     "output_type": "stream",
     "text": [
      "a + b = 12\n",
      "a - b = -4\n",
      "a / b = 0.5\n",
      "a * b = 32\n"
     ]
    }
   ],
   "source": [
    "\n",
    "    void ExibirQuatroOperacoes(){\n",
    "\n",
    "    float a = 4;\n",
    "    float b = 8;\n",
    "\n",
    "    float soma = a + b;\n",
    "    float subtracao = a - b;\n",
    "    float divisao = a / b;\n",
    "    float multiplicacao = a * b;\n",
    "\n",
    "    Console.WriteLine($\"a + b = {soma}\");\n",
    "    Console.WriteLine($\"a - b = {subtracao}\");\n",
    "    Console.WriteLine($\"a / b = {divisao}\");\n",
    "    Console.WriteLine($\"a * b = {multiplicacao}\");\n",
    "    }\n",
    "\n",
    "    ExibirQuatroOperacoes();\n",
    "\n"
   ]
  },
  {
   "cell_type": "markdown",
   "metadata": {},
   "source": [
    "### 2. Criar uma lista de bandas vazia e adicionar suas bandas prediletas em seguida."
   ]
  },
  {
   "cell_type": "code",
   "execution_count": 6,
   "metadata": {
    "dotnet_interactive": {
     "language": "csharp"
    },
    "polyglot_notebook": {
     "kernelName": "csharp"
    },
    "vscode": {
     "languageId": "polyglot-notebook"
    }
   },
   "outputs": [],
   "source": [
    "List<string> bandas = new List<string>();\n",
    "\n",
    "bandas.Add(\"The Beatles\");\n",
    "bandas.Add(\"Pink Floyd\");\n",
    "bandas.Add(\"U2\");\n",
    "bandas.Add(\"Ira!\");"
   ]
  },
  {
   "cell_type": "markdown",
   "metadata": {},
   "source": [
    "### 3. Utilizar a estrutura 'for' para mostrar todas as suas bandas preferidas, listadas na lista do exercício anterior, no console."
   ]
  },
  {
   "cell_type": "code",
   "execution_count": 7,
   "metadata": {
    "dotnet_interactive": {
     "language": "csharp"
    },
    "polyglot_notebook": {
     "kernelName": "csharp"
    },
    "vscode": {
     "languageId": "polyglot-notebook"
    }
   },
   "outputs": [
    {
     "name": "stdout",
     "output_type": "stream",
     "text": [
      "The Beatles\n",
      "Pink Floyd\n",
      "U2\n",
      "Ira!\n"
     ]
    }
   ],
   "source": [
    "for(int i = 0; i < bandas.Count; i++){\n",
    "    Console.WriteLine(bandas[i]);\n",
    "}"
   ]
  },
  {
   "cell_type": "markdown",
   "metadata": {},
   "source": [
    "### 4. Criar um programa que calcula a soma de todos os elementos inteiros em uma lista."
   ]
  },
  {
   "cell_type": "code",
   "execution_count": 8,
   "metadata": {
    "dotnet_interactive": {
     "language": "csharp"
    },
    "polyglot_notebook": {
     "kernelName": "csharp"
    },
    "vscode": {
     "languageId": "polyglot-notebook"
    }
   },
   "outputs": [
    {
     "name": "stdout",
     "output_type": "stream",
     "text": [
      "A soma dos elementos da lista é: 15\r\n"
     ]
    }
   ],
   "source": [
    "\n",
    "List<int> numeros = new List<int> { 1, 2, 3, 4, 5 };\n",
    "int soma = 0;\n",
    "\n",
    "foreach (int numero in numeros)\n",
    "{\n",
    "    soma += numero;\n",
    "}\n",
    "\n",
    "Console.WriteLine($\"A soma dos elementos da lista é: {soma}\");"
   ]
  },
  {
   "cell_type": "markdown",
   "metadata": {},
   "source": [
    "### 5. Criar um programa que calcula a média dos elementos de ponto flutuante em uma lista."
   ]
  },
  {
   "cell_type": "code",
   "execution_count": null,
   "metadata": {
    "dotnet_interactive": {
     "language": "csharp"
    },
    "polyglot_notebook": {
     "kernelName": "csharp"
    },
    "vscode": {
     "languageId": "polyglot-notebook"
    }
   },
   "outputs": [],
   "source": [
    "List<double> numeros = new List<double> { 1.5, 2.5, 3.5, 4.5, 5.5 };\n",
    "double soma = 0;\n",
    "\n",
    "foreach (double numero in numeros)\n",
    "{\n",
    "    soma += numero;\n",
    "}\n",
    "\n",
    "double media = soma / numeros.Count;\n",
    "Console.WriteLine($\"A média dos elementos da lista é: {media}\");"
   ]
  },
  {
   "cell_type": "markdown",
   "metadata": {},
   "source": [
    "1. Desenvolver um programa que exibe a tabuada de um número."
   ]
  },
  {
   "cell_type": "code",
   "execution_count": 9,
   "metadata": {
    "dotnet_interactive": {
     "language": "csharp"
    },
    "polyglot_notebook": {
     "kernelName": "csharp"
    },
    "vscode": {
     "languageId": "polyglot-notebook"
    }
   },
   "outputs": [
    {
     "name": "stdout",
     "output_type": "stream",
     "text": [
      "Tabuada do 5:\n",
      "5 x 1 = 5\n",
      "5 x 2 = 10\n",
      "5 x 3 = 15\n",
      "5 x 4 = 20\n",
      "5 x 5 = 25\n",
      "5 x 6 = 30\n",
      "5 x 7 = 35\n",
      "5 x 8 = 40\n",
      "5 x 9 = 45\n",
      "5 x 10 = 50\n"
     ]
    }
   ],
   "source": [
    "\n",
    "int numero = 5;\n",
    "\n",
    "Console.WriteLine($\"Tabuada do {numero}:\");\n",
    "\n",
    "for (int i = 1; i <= 10; i++)\n",
    "{\n",
    "    int resultado = numero * i;\n",
    "    Console.WriteLine($\"{numero} x {i} = {resultado}\");\n",
    "}"
   ]
  },
  {
   "cell_type": "markdown",
   "metadata": {},
   "source": [
    "### 7. Desenvolver uma calculadora simples que realiza as quatro operações básicas, a partir dado dois numeros e um operador."
   ]
  },
  {
   "cell_type": "code",
   "execution_count": 12,
   "metadata": {
    "dotnet_interactive": {
     "language": "csharp"
    },
    "polyglot_notebook": {
     "kernelName": "csharp"
    },
    "vscode": {
     "languageId": "polyglot-notebook"
    }
   },
   "outputs": [
    {
     "name": "stdout",
     "output_type": "stream",
     "text": [
      "Resultado da operação: 9\r\n"
     ]
    }
   ],
   "source": [
    "\n",
    "double numero1 = 5;\n",
    "\n",
    "\n",
    "double numero2 = 4;\n",
    "\n",
    "\n",
    "char operacao = '+';\n",
    "\n",
    "double resultado = 0;\n",
    "\n",
    "switch (operacao)\n",
    "{\n",
    "    case '+':\n",
    "        resultado = numero1 + numero2;\n",
    "        break;\n",
    "    case '-':\n",
    "        resultado = numero1 - numero2;\n",
    "        break;\n",
    "    case '*':\n",
    "        resultado = numero1 * numero2;\n",
    "        break;\n",
    "    case '/':\n",
    "        resultado = numero1 / numero2;\n",
    "        break;\n",
    "    default:\n",
    "        Console.WriteLine(\"Operação inválida.\");\n",
    "        return;\n",
    "}\n",
    "\n",
    "Console.WriteLine($\"Resultado da operação: {resultado}\");"
   ]
  }
 ],
 "metadata": {
  "language_info": {
   "name": "python"
  }
 },
 "nbformat": 4,
 "nbformat_minor": 2
}
