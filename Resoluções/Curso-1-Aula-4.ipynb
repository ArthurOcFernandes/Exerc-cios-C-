{
 "cells": [
  {
   "cell_type": "markdown",
   "metadata": {},
   "source": [
    "### 1. Criar um dicionário que represente um aluno, com uma lista de notas, e mostre a média de suas notas na tela.\n"
   ]
  },
  {
   "cell_type": "code",
   "execution_count": 1,
   "metadata": {
    "vscode": {
     "languageId": "polyglot-notebook"
    }
   },
   "outputs": [
    {
     "name": "stdout",
     "output_type": "stream",
     "text": [
      "Média de João: 8.333333333333334\n",
      "Média de Maria: 7.166666666666667\n"
     ]
    }
   ],
   "source": [
    "Dictionary<string, List<double>> notasAlunos = new Dictionary<string, List<double>>();\n",
    "\n",
    "// Adicione notas para alguns alunos\n",
    "notasAlunos[\"João\"] = new List<double> { 8.5, 9.0, 7.5 };\n",
    "notasAlunos[\"Maria\"] = new List<double> { 7.0, 8.0, 6.5 };\n",
    "\n",
    "foreach (var aluno in notasAlunos)\n",
    "{\n",
    "    double soma = 0;\n",
    "    for(int i = 0; i < aluno.Value.Count ; i++){\n",
    "        soma += aluno.Value[i];\n",
    "    }\n",
    "    double media = soma / aluno.Value.Count;\n",
    "    Console.WriteLine($\"Média de {aluno.Key}: {media}\");\n",
    "}"
   ]
  },
  {
   "cell_type": "markdown",
   "metadata": {},
   "source": [
    "### 2. Criar um programa que gerencie o estoque de uma loja. Utilize um dicionário para armazenar produtos e suas quantidades em estoque e mostre, a partir do nome de um produto, sua quantidade em estoque. "
   ]
  },
  {
   "cell_type": "code",
   "execution_count": 2,
   "metadata": {
    "dotnet_interactive": {
     "language": "csharp"
    },
    "polyglot_notebook": {
     "kernelName": "csharp"
    },
    "vscode": {
     "languageId": "polyglot-notebook"
    }
   },
   "outputs": [
    {
     "name": "stdout",
     "output_type": "stream",
     "text": [
      "Quantidade em estoque de camisetas: 50 unidades.\r\n"
     ]
    }
   ],
   "source": [
    "Dictionary<string, int> estoque = new Dictionary<string, int>\n",
    "{\n",
    "    { \"camisetas\", 50 },\n",
    "    { \"calças\", 30 },\n",
    "    { \"tênis\", 20 },\n",
    "    // Adicione mais produtos conforme necessário\n",
    "};\n",
    "\n",
    "string produto = \"camisetas\";\n",
    "\n",
    "if (estoque.ContainsKey(produto))\n",
    "{\n",
    "    Console.WriteLine($\"Quantidade em estoque de {produto}: {estoque[produto]} unidades.\");\n",
    "}\n",
    "else\n",
    "{\n",
    "    Console.WriteLine(\"Produto não encontrado no estoque.\");\n",
    "}"
   ]
  },
  {
   "cell_type": "markdown",
   "metadata": {},
   "source": [
    "### 3. Crie um programa que implemente um quiz simples de perguntas e respostas. Utilize um dicionário para armazenar as perguntas e as respostas corretas."
   ]
  },
  {
   "cell_type": "code",
   "execution_count": null,
   "metadata": {
    "dotnet_interactive": {
     "language": "csharp"
    },
    "polyglot_notebook": {
     "kernelName": "csharp"
    },
    "vscode": {
     "languageId": "polyglot-notebook"
    }
   },
   "outputs": [],
   "source": [
    "Dictionary<string, string> perguntasERespostas = new Dictionary<string, string>\n",
    "{\n",
    "    { \"Qual é a capital do Brasil?\", \"Brasília\" },\n",
    "    { \"Quanto é 7 vezes 8?\", \"56\" },\n",
    "    { \"Quem escreveu 'Romeu e Julieta'?\", \"William Shakespeare\" },\n",
    "    // Adicione mais perguntas e respostas conforme necessário\n",
    "};\n",
    "\n",
    "int pontuacao = 0;\n",
    "\n",
    "foreach (var pergunta in perguntasERespostas)\n",
    "{\n",
    "    Console.WriteLine(pergunta.Key);\n",
    "    Console.Write(\"Sua resposta: \");\n",
    "    string respostaUsuario = Console.ReadLine();\n",
    "\n",
    "    if (respostaUsuario.ToLower() == pergunta.Value.ToLower())\n",
    "    {\n",
    "        Console.WriteLine(\"Correto!\\n\");\n",
    "        pontuacao++;\n",
    "    }\n",
    "    else\n",
    "    {\n",
    "        Console.WriteLine($\"Incorreto. A resposta correta é: {pergunta.Value}\\n\");\n",
    "    }\n",
    "}\n",
    "\n",
    "Console.WriteLine($\"Pontuação final: {pontuacao} de {perguntasERespostas.Count}\");"
   ]
  },
  {
   "cell_type": "markdown",
   "metadata": {},
   "source": [
    "### 4. Criar um programa que simule um sistema de login utilizando um dicionário para armazenar nomes de usuário e senhas."
   ]
  },
  {
   "cell_type": "code",
   "execution_count": 3,
   "metadata": {
    "dotnet_interactive": {
     "language": "csharp"
    },
    "polyglot_notebook": {
     "kernelName": "csharp"
    },
    "vscode": {
     "languageId": "polyglot-notebook"
    }
   },
   "outputs": [
    {
     "name": "stdout",
     "output_type": "stream",
     "text": [
      "Login bem-sucedido!\r\n"
     ]
    }
   ],
   "source": [
    "Dictionary<string, string> usuarios = new Dictionary<string, string>\n",
    "{\n",
    "    { \"user1\", \"senha123\" },\n",
    "    { \"user2\", \"abc456\" },\n",
    "    // Adicione mais usuários conforme necessário\n",
    "};\n",
    "\n",
    "string nomeUsuario = \"user1\";\n",
    "string senha = \"senha123\";\n",
    "\n",
    "if (usuarios.ContainsKey(nomeUsuario) && usuarios[nomeUsuario] == senha)\n",
    "    Console.WriteLine(\"Login bem-sucedido!\");\n",
    "else\n",
    "    Console.WriteLine(\"Nome de usuário ou senha incorretos.\");"
   ]
  }
 ],
 "metadata": {
  "language_info": {
   "name": "python"
  }
 },
 "nbformat": 4,
 "nbformat_minor": 2
}
